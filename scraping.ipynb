{
  "nbformat": 4,
  "nbformat_minor": 0,
  "metadata": {
    "colab": {
      "name": "Untitled1.ipynb",
      "provenance": [],
      "collapsed_sections": [],
      "toc_visible": true,
      "authorship_tag": "ABX9TyN23oJY9w3r2e/LO/HQZTWJ",
      "include_colab_link": true
    },
    "kernelspec": {
      "name": "python3",
      "display_name": "Python 3"
    },
    "language_info": {
      "name": "python"
    },
    "widgets": {
      "application/vnd.jupyter.widget-state+json": {
        "44f40013af604c498f54f00d4a347524": {
          "model_module": "@jupyter-widgets/controls",
          "model_name": "HBoxModel",
          "state": {
            "_view_name": "HBoxView",
            "_dom_classes": [],
            "_model_name": "HBoxModel",
            "_view_module": "@jupyter-widgets/controls",
            "_model_module_version": "1.5.0",
            "_view_count": null,
            "_view_module_version": "1.5.0",
            "box_style": "",
            "layout": "IPY_MODEL_65f428a231d34a66bba7ee36a08b0339",
            "_model_module": "@jupyter-widgets/controls",
            "children": [
              "IPY_MODEL_a427f16fdfed48d0a13760c072c3c8f3",
              "IPY_MODEL_65aa2830a4704619a64c621b187f6d9e"
            ]
          }
        },
        "65f428a231d34a66bba7ee36a08b0339": {
          "model_module": "@jupyter-widgets/base",
          "model_name": "LayoutModel",
          "state": {
            "_view_name": "LayoutView",
            "grid_template_rows": null,
            "right": null,
            "justify_content": null,
            "_view_module": "@jupyter-widgets/base",
            "overflow": null,
            "_model_module_version": "1.2.0",
            "_view_count": null,
            "flex_flow": null,
            "width": null,
            "min_width": null,
            "border": null,
            "align_items": null,
            "bottom": null,
            "_model_module": "@jupyter-widgets/base",
            "top": null,
            "grid_column": null,
            "overflow_y": null,
            "overflow_x": null,
            "grid_auto_flow": null,
            "grid_area": null,
            "grid_template_columns": null,
            "flex": null,
            "_model_name": "LayoutModel",
            "justify_items": null,
            "grid_row": null,
            "max_height": null,
            "align_content": null,
            "visibility": null,
            "align_self": null,
            "height": null,
            "min_height": null,
            "padding": null,
            "grid_auto_rows": null,
            "grid_gap": null,
            "max_width": null,
            "order": null,
            "_view_module_version": "1.2.0",
            "grid_template_areas": null,
            "object_position": null,
            "object_fit": null,
            "grid_auto_columns": null,
            "margin": null,
            "display": null,
            "left": null
          }
        },
        "a427f16fdfed48d0a13760c072c3c8f3": {
          "model_module": "@jupyter-widgets/controls",
          "model_name": "FloatProgressModel",
          "state": {
            "_view_name": "ProgressView",
            "style": "IPY_MODEL_a748add247fc46299fd435c5985f1a52",
            "_dom_classes": [],
            "description": " 13%",
            "_model_name": "FloatProgressModel",
            "bar_style": "",
            "max": 8640,
            "_view_module": "@jupyter-widgets/controls",
            "_model_module_version": "1.5.0",
            "value": 1149,
            "_view_count": null,
            "_view_module_version": "1.5.0",
            "orientation": "horizontal",
            "min": 0,
            "description_tooltip": null,
            "_model_module": "@jupyter-widgets/controls",
            "layout": "IPY_MODEL_8ba292dab8294104b4110fe96cfae6f9"
          }
        },
        "65aa2830a4704619a64c621b187f6d9e": {
          "model_module": "@jupyter-widgets/controls",
          "model_name": "HTMLModel",
          "state": {
            "_view_name": "HTMLView",
            "style": "IPY_MODEL_0ebb6e334745404aaab80e8c7a49a8a9",
            "_dom_classes": [],
            "description": "",
            "_model_name": "HTMLModel",
            "placeholder": "​",
            "_view_module": "@jupyter-widgets/controls",
            "_model_module_version": "1.5.0",
            "value": " 1149/8640 [23:59&lt;2:36:45,  1.26s/it]",
            "_view_count": null,
            "_view_module_version": "1.5.0",
            "description_tooltip": null,
            "_model_module": "@jupyter-widgets/controls",
            "layout": "IPY_MODEL_1c4674e3460a40f38c48cd5d5c88a65e"
          }
        },
        "a748add247fc46299fd435c5985f1a52": {
          "model_module": "@jupyter-widgets/controls",
          "model_name": "ProgressStyleModel",
          "state": {
            "_view_name": "StyleView",
            "_model_name": "ProgressStyleModel",
            "description_width": "initial",
            "_view_module": "@jupyter-widgets/base",
            "_model_module_version": "1.5.0",
            "_view_count": null,
            "_view_module_version": "1.2.0",
            "bar_color": null,
            "_model_module": "@jupyter-widgets/controls"
          }
        },
        "8ba292dab8294104b4110fe96cfae6f9": {
          "model_module": "@jupyter-widgets/base",
          "model_name": "LayoutModel",
          "state": {
            "_view_name": "LayoutView",
            "grid_template_rows": null,
            "right": null,
            "justify_content": null,
            "_view_module": "@jupyter-widgets/base",
            "overflow": null,
            "_model_module_version": "1.2.0",
            "_view_count": null,
            "flex_flow": null,
            "width": null,
            "min_width": null,
            "border": null,
            "align_items": null,
            "bottom": null,
            "_model_module": "@jupyter-widgets/base",
            "top": null,
            "grid_column": null,
            "overflow_y": null,
            "overflow_x": null,
            "grid_auto_flow": null,
            "grid_area": null,
            "grid_template_columns": null,
            "flex": null,
            "_model_name": "LayoutModel",
            "justify_items": null,
            "grid_row": null,
            "max_height": null,
            "align_content": null,
            "visibility": null,
            "align_self": null,
            "height": null,
            "min_height": null,
            "padding": null,
            "grid_auto_rows": null,
            "grid_gap": null,
            "max_width": null,
            "order": null,
            "_view_module_version": "1.2.0",
            "grid_template_areas": null,
            "object_position": null,
            "object_fit": null,
            "grid_auto_columns": null,
            "margin": null,
            "display": null,
            "left": null
          }
        },
        "0ebb6e334745404aaab80e8c7a49a8a9": {
          "model_module": "@jupyter-widgets/controls",
          "model_name": "DescriptionStyleModel",
          "state": {
            "_view_name": "StyleView",
            "_model_name": "DescriptionStyleModel",
            "description_width": "",
            "_view_module": "@jupyter-widgets/base",
            "_model_module_version": "1.5.0",
            "_view_count": null,
            "_view_module_version": "1.2.0",
            "_model_module": "@jupyter-widgets/controls"
          }
        },
        "1c4674e3460a40f38c48cd5d5c88a65e": {
          "model_module": "@jupyter-widgets/base",
          "model_name": "LayoutModel",
          "state": {
            "_view_name": "LayoutView",
            "grid_template_rows": null,
            "right": null,
            "justify_content": null,
            "_view_module": "@jupyter-widgets/base",
            "overflow": null,
            "_model_module_version": "1.2.0",
            "_view_count": null,
            "flex_flow": null,
            "width": null,
            "min_width": null,
            "border": null,
            "align_items": null,
            "bottom": null,
            "_model_module": "@jupyter-widgets/base",
            "top": null,
            "grid_column": null,
            "overflow_y": null,
            "overflow_x": null,
            "grid_auto_flow": null,
            "grid_area": null,
            "grid_template_columns": null,
            "flex": null,
            "_model_name": "LayoutModel",
            "justify_items": null,
            "grid_row": null,
            "max_height": null,
            "align_content": null,
            "visibility": null,
            "align_self": null,
            "height": null,
            "min_height": null,
            "padding": null,
            "grid_auto_rows": null,
            "grid_gap": null,
            "max_width": null,
            "order": null,
            "_view_module_version": "1.2.0",
            "grid_template_areas": null,
            "object_position": null,
            "object_fit": null,
            "grid_auto_columns": null,
            "margin": null,
            "display": null,
            "left": null
          }
        }
      }
    }
  },
  "cells": [
    {
      "cell_type": "markdown",
      "metadata": {
        "id": "view-in-github",
        "colab_type": "text"
      },
      "source": [
        "<a href=\"https://colab.research.google.com/github/aritanaoya/keibaAI/blob/main/scraping.ipynb\" target=\"_parent\"><img src=\"https://colab.research.google.com/assets/colab-badge.svg\" alt=\"Open In Colab\"/></a>"
      ]
    },
    {
      "cell_type": "markdown",
      "metadata": {
        "id": "cZxY4dZ9Vd3b"
      },
      "source": [
        "# スクレイピング\n",
        "\n",
        "### 以下4種類のデータをスクレイピングする。\n",
        "\n",
        "- レース結果データ\tResults.scrape()\tresults.pickle\n",
        "- 馬の過去成績データ\tHorseResults.scrape()\thorse_results.pickle\n",
        "- 血統データ\tPeds.scrape()\tpeds.pickle\n",
        "- 払い戻し表データ\tReturn.scrape()\treturn_tables.pickle"
      ]
    },
    {
      "cell_type": "markdown",
      "metadata": {
        "id": "gCnJhNmtbfLz"
      },
      "source": [
        "## モジュールのインポート"
      ]
    },
    {
      "cell_type": "code",
      "metadata": {
        "id": "g4PL1VGybPxN",
        "outputId": "9b14bc42-b9d9-4236-d928-930d1ae222a2",
        "colab": {
          "base_uri": "https://localhost:8080/"
        }
      },
      "source": [
        "import pandas as pd\n",
        "import numpy as np\n",
        "import datetime\n",
        "from tqdm.notebook import tqdm\n",
        "from sklearn.metrics import roc_auc_score\n",
        "from sklearn.preprocessing import LabelEncoder\n",
        "import lightgbm as lgb\n",
        "import requests\n",
        "from bs4 import BeautifulSoup\n",
        "import time\n",
        "from tqdm.notebook import tqdm\n",
        "import re\n",
        "from urllib.request import urlopen\n",
        "!pip install optuna\n",
        "import optuna.integration.lightgbm as lgb_o"
      ],
      "execution_count": 3,
      "outputs": [
        {
          "output_type": "stream",
          "text": [
            "Collecting optuna\n",
            "\u001b[?25l  Downloading https://files.pythonhosted.org/packages/2b/21/d13081805e1e1afc71f5bb743ece324c8bd576237c51b899ecb38a717502/optuna-2.7.0-py3-none-any.whl (293kB)\n",
            "\u001b[K     |████████████████████████████████| 296kB 16.8MB/s \n",
            "\u001b[?25hRequirement already satisfied: packaging>=20.0 in /usr/local/lib/python3.7/dist-packages (from optuna) (20.9)\n",
            "Requirement already satisfied: sqlalchemy>=1.1.0 in /usr/local/lib/python3.7/dist-packages (from optuna) (1.4.3)\n",
            "Requirement already satisfied: numpy in /usr/local/lib/python3.7/dist-packages (from optuna) (1.19.5)\n",
            "Collecting alembic\n",
            "\u001b[?25l  Downloading https://files.pythonhosted.org/packages/72/a4/97eb6273839655cac14947986fa7a5935350fcfd4fff872e9654264c82d8/alembic-1.5.8-py2.py3-none-any.whl (159kB)\n",
            "\u001b[K     |████████████████████████████████| 163kB 46.5MB/s \n",
            "\u001b[?25hRequirement already satisfied: tqdm in /usr/local/lib/python3.7/dist-packages (from optuna) (4.41.1)\n",
            "Collecting colorlog\n",
            "  Downloading https://files.pythonhosted.org/packages/51/62/61449c6bb74c2a3953c415b2cdb488e4f0518ac67b35e2b03a6d543035ca/colorlog-4.8.0-py2.py3-none-any.whl\n",
            "Requirement already satisfied: scipy!=1.4.0 in /usr/local/lib/python3.7/dist-packages (from optuna) (1.4.1)\n",
            "Collecting cmaes>=0.8.2\n",
            "  Downloading https://files.pythonhosted.org/packages/01/1f/43b01223a0366171f474320c6e966c39a11587287f098a5f09809b45e05f/cmaes-0.8.2-py3-none-any.whl\n",
            "Collecting cliff\n",
            "\u001b[?25l  Downloading https://files.pythonhosted.org/packages/a2/d6/7d9acb68a77acd140be7fececb7f2701b2a29d2da9c54184cb8f93509590/cliff-3.7.0-py3-none-any.whl (80kB)\n",
            "\u001b[K     |████████████████████████████████| 81kB 7.8MB/s \n",
            "\u001b[?25hRequirement already satisfied: pyparsing>=2.0.2 in /usr/local/lib/python3.7/dist-packages (from packaging>=20.0->optuna) (2.4.7)\n",
            "Requirement already satisfied: importlib-metadata; python_version < \"3.8\" in /usr/local/lib/python3.7/dist-packages (from sqlalchemy>=1.1.0->optuna) (3.8.1)\n",
            "Requirement already satisfied: greenlet!=0.4.17; python_version >= \"3\" in /usr/local/lib/python3.7/dist-packages (from sqlalchemy>=1.1.0->optuna) (1.0.0)\n",
            "Collecting Mako\n",
            "\u001b[?25l  Downloading https://files.pythonhosted.org/packages/f3/54/dbc07fbb20865d3b78fdb7cf7fa713e2cba4f87f71100074ef2dc9f9d1f7/Mako-1.1.4-py2.py3-none-any.whl (75kB)\n",
            "\u001b[K     |████████████████████████████████| 81kB 8.8MB/s \n",
            "\u001b[?25hRequirement already satisfied: python-dateutil in /usr/local/lib/python3.7/dist-packages (from alembic->optuna) (2.8.1)\n",
            "Collecting python-editor>=0.3\n",
            "  Downloading https://files.pythonhosted.org/packages/c6/d3/201fc3abe391bbae6606e6f1d598c15d367033332bd54352b12f35513717/python_editor-1.0.4-py3-none-any.whl\n",
            "Collecting pbr!=2.1.0,>=2.0.0\n",
            "\u001b[?25l  Downloading https://files.pythonhosted.org/packages/fb/48/69046506f6ac61c1eaa9a0d42d22d54673b69e176d30ca98e3f61513e980/pbr-5.5.1-py2.py3-none-any.whl (106kB)\n",
            "\u001b[K     |████████████████████████████████| 112kB 52.9MB/s \n",
            "\u001b[?25hRequirement already satisfied: PyYAML>=3.12 in /usr/local/lib/python3.7/dist-packages (from cliff->optuna) (3.13)\n",
            "Collecting cmd2>=1.0.0\n",
            "\u001b[?25l  Downloading https://files.pythonhosted.org/packages/15/8b/15061b32332bb35ea2a2f6263d0f616779d576e82739ec8e7fcf3c94abf5/cmd2-1.5.0-py3-none-any.whl (133kB)\n",
            "\u001b[K     |████████████████████████████████| 143kB 41.7MB/s \n",
            "\u001b[?25hRequirement already satisfied: PrettyTable>=0.7.2 in /usr/local/lib/python3.7/dist-packages (from cliff->optuna) (2.1.0)\n",
            "Collecting stevedore>=2.0.1\n",
            "\u001b[?25l  Downloading https://files.pythonhosted.org/packages/d4/49/b602307aeac3df3384ff1fcd05da9c0376c622a6c48bb5325f28ab165b57/stevedore-3.3.0-py3-none-any.whl (49kB)\n",
            "\u001b[K     |████████████████████████████████| 51kB 6.2MB/s \n",
            "\u001b[?25hRequirement already satisfied: typing-extensions>=3.6.4; python_version < \"3.8\" in /usr/local/lib/python3.7/dist-packages (from importlib-metadata; python_version < \"3.8\"->sqlalchemy>=1.1.0->optuna) (3.7.4.3)\n",
            "Requirement already satisfied: zipp>=0.5 in /usr/local/lib/python3.7/dist-packages (from importlib-metadata; python_version < \"3.8\"->sqlalchemy>=1.1.0->optuna) (3.4.1)\n",
            "Requirement already satisfied: MarkupSafe>=0.9.2 in /usr/local/lib/python3.7/dist-packages (from Mako->alembic->optuna) (1.1.1)\n",
            "Requirement already satisfied: six>=1.5 in /usr/local/lib/python3.7/dist-packages (from python-dateutil->alembic->optuna) (1.15.0)\n",
            "Collecting pyperclip>=1.6\n",
            "  Downloading https://files.pythonhosted.org/packages/a7/2c/4c64579f847bd5d539803c8b909e54ba087a79d01bb3aba433a95879a6c5/pyperclip-1.8.2.tar.gz\n",
            "Requirement already satisfied: wcwidth>=0.1.7 in /usr/local/lib/python3.7/dist-packages (from cmd2>=1.0.0->cliff->optuna) (0.2.5)\n",
            "Requirement already satisfied: attrs>=16.3.0 in /usr/local/lib/python3.7/dist-packages (from cmd2>=1.0.0->cliff->optuna) (20.3.0)\n",
            "Collecting colorama>=0.3.7\n",
            "  Downloading https://files.pythonhosted.org/packages/44/98/5b86278fbbf250d239ae0ecb724f8572af1c91f4a11edf4d36a206189440/colorama-0.4.4-py2.py3-none-any.whl\n",
            "Building wheels for collected packages: pyperclip\n",
            "  Building wheel for pyperclip (setup.py) ... \u001b[?25l\u001b[?25hdone\n",
            "  Created wheel for pyperclip: filename=pyperclip-1.8.2-cp37-none-any.whl size=11107 sha256=589dcc505dcbc2f3a2735a37758ba683c0db1a8d400ddb188cd1d033894de13f\n",
            "  Stored in directory: /root/.cache/pip/wheels/25/af/b8/3407109267803f4015e1ee2ff23be0c8c19ce4008665931ee1\n",
            "Successfully built pyperclip\n",
            "Installing collected packages: Mako, python-editor, alembic, colorlog, cmaes, pbr, pyperclip, colorama, cmd2, stevedore, cliff, optuna\n",
            "Successfully installed Mako-1.1.4 alembic-1.5.8 cliff-3.7.0 cmaes-0.8.2 cmd2-1.5.0 colorama-0.4.4 colorlog-4.8.0 optuna-2.7.0 pbr-5.5.1 pyperclip-1.8.2 python-editor-1.0.4 stevedore-3.3.0\n"
          ],
          "name": "stdout"
        }
      ]
    },
    {
      "cell_type": "markdown",
      "metadata": {
        "id": "f-DtP4w5XZAA"
      },
      "source": [
        "## Results.scrape()\n",
        "\n",
        "メインとなる訓練データである、レース結果データをスクレイピングするメソッド"
      ]
    },
    {
      "cell_type": "code",
      "metadata": {
        "id": "g1yPOL1nVZ_M"
      },
      "source": [
        "class Results:\n",
        "    @staticmethod\n",
        "    def scrape(race_id_list):\n",
        "        \"\"\"\n",
        "        レース結果データをスクレイピングする関数\n",
        "\n",
        "        Parameters:\n",
        "        ----------\n",
        "        race_id_list : list\n",
        "            レースIDのリスト\n",
        "\n",
        "        Returns:\n",
        "        ----------\n",
        "        race_results_df : pandas.DataFrame\n",
        "            全レース結果データをまとめてDataFrame型にしたもの\n",
        "        \"\"\"\n",
        "\n",
        "        #race_idをkeyにしてDataFrame型を格納\n",
        "        race_results = {}\n",
        "        for race_id in tqdm(race_id_list):\n",
        "          time.sleep(1)\n",
        "          try:\n",
        "            url = \"https://db.netkeiba.com/race/\" + race_id\n",
        "            #メインとなるテーブルデータを取得\n",
        "            df = pd.read_html(url)[0]\n",
        "\n",
        "            html = requests.get(url)\n",
        "            html.encoding = \"EUC-JP\"\n",
        "            soup = BeautifulSoup(html.text, \"html.parser\")\n",
        "\n",
        "            #天候、レースの種類、コースの長さ、馬場の状態、日付をスクレイピング\n",
        "            #NetKeibaの例     2歳未勝利\n",
        "            #                 芝右1800m / 天候 : 曇 / 芝 : 良 / 発走 : 09:50\n",
        "            texts = (\n",
        "                soup.find(\"div\", attrs={\"class\": \"data_intro\"}).find_all(\"p\")[0].text\n",
        "                + soup.find(\"div\", attrs={\"class\": \"data_intro\"}).find_all(\"p\")[1].text\n",
        "            )\n",
        "            info = re.findall(r'\\w+', texts)\n",
        "            for text in info:\n",
        "                if text in [\"芝\", \"ダート\"]:\n",
        "                    df[\"race_type\"] = [text] * len(df)\n",
        "                if \"障\" in text:\n",
        "                    df[\"race_type\"] = [\"障害\"] * len(df)\n",
        "                if \"m\" in text:\n",
        "                    df[\"course_len\"] = [int(re.findall(r\"\\d+\", text)[0])] * len(df)\n",
        "                if text in [\"良\", \"稍重\", \"重\", \"不良\"]:\n",
        "                    df[\"ground_state\"] = [text] * len(df)\n",
        "                if text in [\"曇\", \"晴\", \"雨\", \"小雨\", \"小雪\", \"雪\"]:\n",
        "                    df[\"weather\"] = [text] * len(df)\n",
        "                if \"年\" in text:\n",
        "                    df[\"date\"] = [text] * len(df)\n",
        "\n",
        "            #馬ID、騎手IDをスクレイピング\n",
        "            horse_id_list = []\n",
        "            horse_a_list = soup.find(\"table\", attrs={\"summary\": \"レース結果\"}).find_all(\n",
        "                \"a\", attrs={\"href\": re.compile(\"^/horse\")}\n",
        "            )\n",
        "            for a in horse_a_list:\n",
        "                horse_id = re.findall(r\"\\d+\", a[\"href\"])\n",
        "                horse_id_list.append(horse_id[0])\n",
        "            jockey_id_list = []\n",
        "            jockey_a_list = soup.find(\"table\", attrs={\"summary\": \"レース結果\"}).find_all(\n",
        "                \"a\", attrs={\"href\": re.compile(\"^/jockey\")}\n",
        "            )\n",
        "            for a in jockey_a_list:\n",
        "                jockey_id = re.findall(r\"\\d+\", a[\"href\"])\n",
        "                jockey_id_list.append(jockey_id[0])\n",
        "            df[\"horse_id\"] = horse_id_list\n",
        "            df[\"jockey_id\"] = jockey_id_list\n",
        "\n",
        "            #インデックスをrace_idにする\n",
        "            df.index = [race_id] * len(df)\n",
        "\n",
        "            race_results[race_id] = df\n",
        "          #存在しないrace_idを飛ばす\n",
        "          except IndexError:\n",
        "            continue\n",
        "          #wifiの接続が切れた時などでも途中までのデータを返せるようにする\n",
        "          except Exception as e:\n",
        "            print(e)\n",
        "            break\n",
        "          #Jupyterで停止ボタンを押した時の対処\n",
        "          except:\n",
        "            break\n",
        "\n",
        "        #pd.DataFrame型にして一つのデータにまとめる\n",
        "        race_results_df = pd.concat([race_results[key] for key in race_results])\n",
        "\n",
        "        return race_results_df"
      ],
      "execution_count": 7,
      "outputs": []
    },
    {
      "cell_type": "markdown",
      "metadata": {
        "id": "BPFvvEu-aKR1"
      },
      "source": [
        "実際に2020年のデータを取得\n",
        "\n",
        "- 年次\n",
        "- 場所\n",
        "  - 01: 札幌 02: 函館 03: 福島 04: 新潟 05: 東京06:中山07: 中京 08: 京都 09:阪神 10: 小倉\n",
        "- レースの開催回数\n",
        "- 開催日\n",
        "- round"
      ]
    },
    {
      "cell_type": "code",
      "metadata": {
        "id": "vaXtYpkjV6vG",
        "colab": {
          "base_uri": "https://localhost:8080/",
          "height": 49,
          "referenced_widgets": [
            "44f40013af604c498f54f00d4a347524",
            "65f428a231d34a66bba7ee36a08b0339",
            "a427f16fdfed48d0a13760c072c3c8f3",
            "65aa2830a4704619a64c621b187f6d9e",
            "a748add247fc46299fd435c5985f1a52",
            "8ba292dab8294104b4110fe96cfae6f9",
            "0ebb6e334745404aaab80e8c7a49a8a9",
            "1c4674e3460a40f38c48cd5d5c88a65e"
          ]
        },
        "outputId": "c48b4912-2b51-41b8-d8f6-687ce787832f"
      },
      "source": [
        "race_id_list = []\n",
        "i=5\n",
        "for place in range(i):\n",
        "  for kai in range(1, 13, 1):\n",
        "    for day in range(1, 13, 1):\n",
        "      for r in range(1, 13, 1):\n",
        "          race_id = \"2020\" + str(place).zfill(2) + str(kai).zfill(2) + str(day).zfill(2) + str(r).zfill(2)\n",
        "          race_id_list.append(race_id)\n",
        "\n",
        "results_tokyo = Results.scrape(race_id_list)"
      ],
      "execution_count": null,
      "outputs": [
        {
          "output_type": "display_data",
          "data": {
            "application/vnd.jupyter.widget-view+json": {
              "model_id": "44f40013af604c498f54f00d4a347524",
              "version_minor": 0,
              "version_major": 2
            },
            "text/plain": [
              "HBox(children=(FloatProgress(value=0.0, max=8640.0), HTML(value='')))"
            ]
          },
          "metadata": {
            "tags": []
          }
        }
      ]
    },
    {
      "cell_type": "markdown",
      "metadata": {
        "id": "OHT_aVKUcl7R"
      },
      "source": [
        " データの保存"
      ]
    },
    {
      "cell_type": "code",
      "metadata": {
        "id": "ppbDxRefbDtg",
        "colab": {
          "base_uri": "https://localhost:8080/"
        },
        "outputId": "4697620b-6718-40de-e819-ac9cb845e24b"
      },
      "source": [
        "results_tokyo.to_pickle('results_tokyo.pickle')\n",
        "results_tokyo.info()"
      ],
      "execution_count": 14,
      "outputs": [
        {
          "output_type": "stream",
          "text": [
            "<class 'pandas.core.frame.DataFrame'>\n",
            "Index: 30 entries, 202005050105 to 202005050106\n",
            "Data columns (total 20 columns):\n",
            " #   Column        Non-Null Count  Dtype  \n",
            "---  ------        --------------  -----  \n",
            " 0   着順            30 non-null     object \n",
            " 1   枠番            30 non-null     int64  \n",
            " 2   馬番            30 non-null     int64  \n",
            " 3   馬名            30 non-null     object \n",
            " 4   性齢            30 non-null     object \n",
            " 5   斤量            30 non-null     int64  \n",
            " 6   騎手            30 non-null     object \n",
            " 7   タイム           29 non-null     object \n",
            " 8   着差            27 non-null     object \n",
            " 9   単勝            30 non-null     float64\n",
            " 10  人気            30 non-null     int64  \n",
            " 11  馬体重           30 non-null     object \n",
            " 12  調教師           30 non-null     object \n",
            " 13  course_len    30 non-null     int64  \n",
            " 14  weather       30 non-null     object \n",
            " 15  race_type     30 non-null     object \n",
            " 16  ground_state  30 non-null     object \n",
            " 17  date          30 non-null     object \n",
            " 18  horse_id      30 non-null     object \n",
            " 19  jockey_id     30 non-null     object \n",
            "dtypes: float64(1), int64(5), object(14)\n",
            "memory usage: 4.9+ KB\n"
          ],
          "name": "stdout"
        }
      ]
    },
    {
      "cell_type": "markdown",
      "metadata": {
        "id": "HLoAeyyMd8uU"
      },
      "source": [
        "## HorseResults.scrape()\n",
        "\n",
        "馬の過去成績データをスクレイピングするメソッド\n",
        "\n"
      ]
    },
    {
      "cell_type": "code",
      "metadata": {
        "id": "z8Os322KeA-7"
      },
      "source": [
        "#馬の過去成績データを処理するクラス\n",
        "class HorseResults:\n",
        "  @staticmethod\n",
        "  def scrape(horse_id_list):\n",
        "      \"\"\"\n",
        "      馬の過去成績データをスクレイピングする関数\n",
        "\n",
        "      Parameters:\n",
        "      ----------\n",
        "      horse_id_list : list\n",
        "          馬IDのリスト\n",
        "\n",
        "      Returns:\n",
        "      ----------\n",
        "      horse_results_df : pandas.DataFrame\n",
        "          全馬の過去成績データをまとめてDataFrame型にしたもの\n",
        "      \"\"\"\n",
        "\n",
        "      #horse_idをkeyにしてDataFrame型を格納\n",
        "      horse_results = {}\n",
        "      for horse_id in tqdm(horse_id_list):\n",
        "          try:\n",
        "              url = 'https://db.netkeiba.com/horse/' + horse_id\n",
        "              df = pd.read_html(url)[3]\n",
        "              #受賞歴がある馬の場合、3番目に受賞歴テーブルが来るため、4番目のデータを取得する\n",
        "              if df.columns[0]=='受賞歴':\n",
        "                  df = pd.read_html(url)[4]\n",
        "              df.index = [horse_id] * len(df)\n",
        "              horse_results[horse_id] = df\n",
        "              time.sleep(1)\n",
        "          except IndexError:\n",
        "              continue\n",
        "          except Exception as e:\n",
        "              print(e)\n",
        "              break\n",
        "          except:\n",
        "              break\n",
        "\n",
        "      #pd.DataFrame型にして一つのデータにまとめる        \n",
        "      horse_results_df = pd.concat([horse_results[key] for key in horse_results])\n",
        "\n",
        "      return horse_results_df"
      ],
      "execution_count": 15,
      "outputs": []
    },
    {
      "cell_type": "markdown",
      "metadata": {
        "id": "hUl6Dn8HS5Qi"
      },
      "source": [
        "上記で取得した馬idを元に馬の成績を保存"
      ]
    },
    {
      "cell_type": "code",
      "metadata": {
        "id": "pyWAUdEwePGm"
      },
      "source": [
        "horse_id_list = results['horse_id'].unique()\n",
        "horse_results = HorseResults.scrape(horse_id_list)\n",
        "horse_results #jupyterで出力"
      ],
      "execution_count": null,
      "outputs": []
    },
    {
      "cell_type": "markdown",
      "metadata": {
        "id": "jO5eI2L-SzGj"
      },
      "source": [
        "馬成績の保存"
      ]
    },
    {
      "cell_type": "code",
      "metadata": {
        "id": "ushAoqcUOrgL"
      },
      "source": [
        "horse_results.to_pickle('horse_results.pickle')"
      ],
      "execution_count": null,
      "outputs": []
    },
    {
      "cell_type": "markdown",
      "metadata": {
        "id": "y6ykmiwETI31"
      },
      "source": [
        "## Peds.scrape()\n",
        "\n",
        "馬ごとに3世代分の血統データをスクレイピングする"
      ]
    },
    {
      "cell_type": "code",
      "metadata": {
        "id": "iwxxd5JETIv2"
      },
      "source": [
        "#血統データを処理するクラス\n",
        "class Peds:\n",
        "    @staticmethod\n",
        "    def scrape(horse_id_list):\n",
        "        \"\"\"\n",
        "        血統データをスクレイピングする関数\n",
        "\n",
        "        Parameters:\n",
        "        ----------\n",
        "        horse_id_list : list\n",
        "            馬IDのリスト\n",
        "\n",
        "        Returns:\n",
        "        ----------\n",
        "        peds_df : pandas.DataFrame\n",
        "            全血統データをまとめてDataFrame型にしたもの\n",
        "        \"\"\"\n",
        "\n",
        "        peds_dict = {}\n",
        "        for horse_id in tqdm(horse_id_list):\n",
        "            try:\n",
        "            url = \"https://db.netkeiba.com/horse/ped/\" + horse_id\n",
        "            df = pd.read_html(url)[0]\n",
        "\n",
        "            #重複を削除して1列のSeries型データに直す\n",
        "            generations = {}\n",
        "            for i in reversed(range(3)):\n",
        "                generations[i] = df[i]\n",
        "                df.drop([i], axis=1, inplace=True)\n",
        "                df = df.drop_duplicates()\n",
        "            ped = pd.concat([generations[i] for i in range(5)]).rename(horse_id)\n",
        "\n",
        "            peds_dict[horse_id] = ped.reset_index(drop=True)\n",
        "            time.sleep(1)\n",
        "            except IndexError:\n",
        "            continue\n",
        "            except Exception as e:\n",
        "            print(e)\n",
        "            break\n",
        "            except:\n",
        "            break\n",
        "\n",
        "    #列名をpeds_0, ..., peds_61にする\n",
        "    peds_df = pd.concat([peds_dict[key] for key in peds_dict], axis=1).T.add_prefix('peds_')\n",
        "\n",
        "    return peds_df"
      ],
      "execution_count": null,
      "outputs": []
    },
    {
      "cell_type": "markdown",
      "metadata": {
        "id": "1ZSZXMJ9ToNe"
      },
      "source": [
        "血統データを取得"
      ]
    },
    {
      "cell_type": "code",
      "metadata": {
        "id": "tYTISqByTyJT"
      },
      "source": [
        "horse_id_list = results['horse_id'].unique()\n",
        "peds_results = Peds.scrape(horse_id_list)\n",
        "peds_results #jupyterで出力"
      ],
      "execution_count": null,
      "outputs": []
    },
    {
      "cell_type": "markdown",
      "metadata": {
        "id": "DxLCzpsIUAIh"
      },
      "source": [
        "データの保存"
      ]
    },
    {
      "cell_type": "code",
      "metadata": {
        "id": "r_pv5ShST_6v"
      },
      "source": [
        "peds_results.to_pickle('peds_results.pickle')"
      ],
      "execution_count": null,
      "outputs": []
    },
    {
      "cell_type": "markdown",
      "metadata": {
        "id": "MCzF_MmJUKGO"
      },
      "source": [
        "## Return.scrape()\n",
        "\n",
        "回収率の計算をするために、レース結果データと同じページにある払い戻し表をスクレイピング"
      ]
    },
    {
      "cell_type": "code",
      "metadata": {
        "id": "_7CbYDyfUKau"
      },
      "source": [
        "#払い戻し表データを処理するクラス\n",
        "class Return:\n",
        "  @staticmethod\n",
        "  def scrape(race_id_list):\n",
        "      \"\"\"\n",
        "      払い戻し表データをスクレイピングする関数\n",
        "\n",
        "      Parameters:\n",
        "      ----------\n",
        "      race_id_list : list\n",
        "          レースIDのリスト\n",
        "\n",
        "      Returns:\n",
        "      ----------\n",
        "      return_tables_df : pandas.DataFrame\n",
        "          全払い戻し表データをまとめてDataFrame型にしたもの\n",
        "      \"\"\"\n",
        "\n",
        "      return_tables = {}\n",
        "      for race_id in tqdm(race_id_list):\n",
        "          try:\n",
        "              url = \"https://db.netkeiba.com/race/\" + race_id\n",
        "\n",
        "              #普通にスクレイピングすると複勝やワイドなどが区切られないで繋がってしまう。\n",
        "              #そのため、改行コードを文字列brに変換して後でsplitする\n",
        "              f = urlopen(url)\n",
        "              html = f.read()\n",
        "              html = html.replace(b'<br />', b'br')\n",
        "              dfs = pd.read_html(html)\n",
        "\n",
        "              #dfsの1番目に単勝〜馬連、2番目にワイド〜三連単がある\n",
        "              df = pd.concat([dfs[1], dfs[2]])\n",
        "\n",
        "              df.index = [race_id] * len(df)\n",
        "              return_tables[race_id] = df\n",
        "              time.sleep(1)\n",
        "          except IndexError:\n",
        "              continue\n",
        "          except Exception as e:\n",
        "              print(e)\n",
        "              break\n",
        "          except:\n",
        "              break\n",
        "\n",
        "      #pd.DataFrame型にして一つのデータにまとめる\n",
        "      return_tables_df = pd.concat([return_tables[key] for key in return_tables])\n",
        "      return return_tables_df"
      ],
      "execution_count": null,
      "outputs": []
    },
    {
      "cell_type": "markdown",
      "metadata": {
        "id": "CnCMiE1aVcwk"
      },
      "source": [
        "## update_data関数\n",
        "\n",
        "馬の過去成績データなどを新しくスクレイピングして古いデータに追加する"
      ]
    },
    {
      "cell_type": "code",
      "metadata": {
        "id": "BMTCbBVoVdFb"
      },
      "source": [
        "def update_data(old, new):\n",
        "    \"\"\"\n",
        "    Parameters:\n",
        "    ----------\n",
        "    old : pandas.DataFrame\n",
        "        古いデータ\n",
        "    new : pandas.DataFrame\n",
        "        新しいデータ\n",
        "    \"\"\"\n",
        "\n",
        "    filtered_old = old[~old.index.isin(new.index)]\n",
        "    return pd.concat([filtered_old, new])"
      ],
      "execution_count": null,
      "outputs": []
    }
  ]
}